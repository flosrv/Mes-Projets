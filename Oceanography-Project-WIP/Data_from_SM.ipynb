{
 "cells": [
  {
   "cell_type": "code",
   "execution_count": null,
   "metadata": {},
   "outputs": [],
   "source": [
    "import subprocess\n",
    "import sys\n",
    "from siphon.simplewebservice.ndbc import NDBC\n",
    "import time\n",
    "import requests, pandas as pd\n",
    "from datetime import datetime, timedelta, timezone, time\n",
    "import os,json\n",
    "from pathlib import Path\n",
    "import meteomatics.api as api\n",
    "import matplotlib.pyplot as plt\n",
    "import pytz, folium, gspread\n",
    "from datetime import datetime\n",
    "from google.auth.transport.requests import Request\n",
    "from googleapiclient.discovery import build\n",
    "from google.oauth2.service_account import Credentials\n",
    "from requests.exceptions import HTTPError  # Importer HTTPError\n",
    "import sys\n",
    "from urllib.error import HTTPError\n",
    "from sklearn.preprocessing import StandardScaler\n",
    "\n",
    "\n",
    "def install_and_import(*packages):\n",
    "    for package in packages:\n",
    "        try:\n",
    "            # Tenter d'importer chaque bibliothèque\n",
    "            globals()[package] = __import__(package)\n",
    "            print(f\"Le package '{package}' est déjà installé et importé.\")\n",
    "        except ImportError:\n",
    "            # Si l'import échoue, installer la bibliothèque\n",
    "            print(f\"Le package '{package}' n'est pas installé. Installation en cours...\")\n",
    "            subprocess.check_call([sys.executable, \"-m\", \"pip\", \"install\", package])\n",
    "            # Ensuite, essayer à nouveau d'importer la bibliothèque\n",
    "            globals()[package] = __import__(package)\n",
    "            print(f\"Le package '{package}' a été installé et importé.\")\n",
    "\n",
    "%pip install pyowm\n",
    "# Utilisation de la fonction pour installer et importer plusieurs packages\n",
    "install_and_import(\"dask\", \"pyowm\", \"ndbc_api\", \"plotly\")\n",
    "import plotly.express as px"
   ]
  },
  {
   "cell_type": "code",
   "execution_count": null,
   "metadata": {},
   "outputs": [],
   "source": [
    "# Définir les scopes requis pour accéder à Google Sheets et Google Drive\n",
    "scopes = [\n",
    "    'https://spreadsheets.google.com/feeds',\n",
    "    'https://www.googleapis.com/auth/drive','https://www.googleapis.com/auth/drive.file',\n",
    "    'https://www.googleapis.com/auth/drive.appdata','https://www.googleapis.com/auth/drive.appfolder'\n",
    "]\n",
    "\n",
    "# Chemin vers le fichier de crédentials JSON\n",
    "path_to_google_cred = \"google_sheets_api.json\"\n",
    "\n",
    "# Créer les crédentials à partir du fichier de service account\n",
    "creds = Credentials.from_service_account_file(path_to_google_cred, scopes=scopes)\n",
    "\n",
    "# Autoriser l'accès en utilisant les crédentials\n",
    "client = gspread.authorize(creds)\n",
    "\n",
    "# ID de la feuille Google Sheets\n",
    "sheet_id = \"1rXyD4WW5DcrO2iCywfwLbqps3Z-RumxQH9hJofhVM24/\"\n",
    "\n",
    "# Ouvrir la feuille Google Sheets en utilisant son ID\n",
    "spreadsheet = client.open_by_key(sheet_id)\n",
    "\n",
    "worksheets = spreadsheet.worksheets()\n",
    "\n",
    "drive_service = build('drive', 'v3', credentials=creds)"
   ]
  },
  {
   "cell_type": "markdown",
   "metadata": {},
   "source": [
    "Get Data from APIs"
   ]
  },
  {
   "cell_type": "markdown",
   "metadata": {},
   "source": [
    "Marine API"
   ]
  },
  {
   "cell_type": "code",
   "execution_count": null,
   "metadata": {},
   "outputs": [],
   "source": [
    "from ndbc_api import NdbcApi\n",
    "\n",
    "api = NdbcApi()\n",
    "\n",
    "# get all stations and some metadata as a Pandas DataFrame\n",
    "stations_df = api.stations()\n",
    "\n",
    "stations_df.head()"
   ]
  },
  {
   "cell_type": "markdown",
   "metadata": {},
   "source": [
    "Get Nearest"
   ]
  },
  {
   "cell_type": "code",
   "execution_count": 69,
   "metadata": {},
   "outputs": [
    {
     "name": "stdout",
     "output_type": "stream",
     "text": [
      "14.512\n",
      "-75.153\n"
     ]
    }
   ],
   "source": [
    "latitude = 11.2404\n",
    "longitude = -74.211\n",
    "\n",
    "nearest = api.nearest_station(lat=latitude, lon=longitude)\n",
    "nearest\n",
    "for index, row in stations_df.iterrows():\n",
    "    if row['Station'] == '42058':\n",
    "        lat_buoy_near_SM = row['Lat']\n",
    "        lon_buoy_near_SM = row['Lon']\n",
    "        print(lat_buoy_near_SM)\n",
    "        print(lon_buoy_near_SM)\n",
    "df_marine = NDBC.realtime_observations(nearest)\n"
   ]
  },
  {
   "cell_type": "code",
   "execution_count": 73,
   "metadata": {},
   "outputs": [
    {
     "data": {
      "text/html": [
       "<div style=\"width:100%;\"><div style=\"position:relative;width:100%;height:0;padding-bottom:60%;\"><span style=\"color:#565656\">Make this Notebook Trusted to load map: File -> Trust Notebook</span><iframe srcdoc=\"&lt;!DOCTYPE html&gt;\n",
       "&lt;html&gt;\n",
       "&lt;head&gt;\n",
       "    \n",
       "    &lt;meta http-equiv=&quot;content-type&quot; content=&quot;text/html; charset=UTF-8&quot; /&gt;\n",
       "    \n",
       "        &lt;script&gt;\n",
       "            L_NO_TOUCH = false;\n",
       "            L_DISABLE_3D = false;\n",
       "        &lt;/script&gt;\n",
       "    \n",
       "    &lt;style&gt;html, body {width: 100%;height: 100%;margin: 0;padding: 0;}&lt;/style&gt;\n",
       "    &lt;style&gt;#map {position:absolute;top:0;bottom:0;right:0;left:0;}&lt;/style&gt;\n",
       "    &lt;script src=&quot;https://cdn.jsdelivr.net/npm/leaflet@1.9.3/dist/leaflet.js&quot;&gt;&lt;/script&gt;\n",
       "    &lt;script src=&quot;https://code.jquery.com/jquery-3.7.1.min.js&quot;&gt;&lt;/script&gt;\n",
       "    &lt;script src=&quot;https://cdn.jsdelivr.net/npm/bootstrap@5.2.2/dist/js/bootstrap.bundle.min.js&quot;&gt;&lt;/script&gt;\n",
       "    &lt;script src=&quot;https://cdnjs.cloudflare.com/ajax/libs/Leaflet.awesome-markers/2.0.2/leaflet.awesome-markers.js&quot;&gt;&lt;/script&gt;\n",
       "    &lt;link rel=&quot;stylesheet&quot; href=&quot;https://cdn.jsdelivr.net/npm/leaflet@1.9.3/dist/leaflet.css&quot;/&gt;\n",
       "    &lt;link rel=&quot;stylesheet&quot; href=&quot;https://cdn.jsdelivr.net/npm/bootstrap@5.2.2/dist/css/bootstrap.min.css&quot;/&gt;\n",
       "    &lt;link rel=&quot;stylesheet&quot; href=&quot;https://netdna.bootstrapcdn.com/bootstrap/3.0.0/css/bootstrap-glyphicons.css&quot;/&gt;\n",
       "    &lt;link rel=&quot;stylesheet&quot; href=&quot;https://cdn.jsdelivr.net/npm/@fortawesome/fontawesome-free@6.2.0/css/all.min.css&quot;/&gt;\n",
       "    &lt;link rel=&quot;stylesheet&quot; href=&quot;https://cdnjs.cloudflare.com/ajax/libs/Leaflet.awesome-markers/2.0.2/leaflet.awesome-markers.css&quot;/&gt;\n",
       "    &lt;link rel=&quot;stylesheet&quot; href=&quot;https://cdn.jsdelivr.net/gh/python-visualization/folium/folium/templates/leaflet.awesome.rotate.min.css&quot;/&gt;\n",
       "    \n",
       "            &lt;meta name=&quot;viewport&quot; content=&quot;width=device-width,\n",
       "                initial-scale=1.0, maximum-scale=1.0, user-scalable=no&quot; /&gt;\n",
       "            &lt;style&gt;\n",
       "                #map_7dba7539adc39b49b53504e2ff26cb17 {\n",
       "                    position: relative;\n",
       "                    width: 100.0%;\n",
       "                    height: 100.0%;\n",
       "                    left: 0.0%;\n",
       "                    top: 0.0%;\n",
       "                }\n",
       "                .leaflet-container { font-size: 1rem; }\n",
       "            &lt;/style&gt;\n",
       "        \n",
       "&lt;/head&gt;\n",
       "&lt;body&gt;\n",
       "    \n",
       "    \n",
       "            &lt;div class=&quot;folium-map&quot; id=&quot;map_7dba7539adc39b49b53504e2ff26cb17&quot; &gt;&lt;/div&gt;\n",
       "        \n",
       "&lt;/body&gt;\n",
       "&lt;script&gt;\n",
       "    \n",
       "    \n",
       "            var map_7dba7539adc39b49b53504e2ff26cb17 = L.map(\n",
       "                &quot;map_7dba7539adc39b49b53504e2ff26cb17&quot;,\n",
       "                {\n",
       "                    center: [11.2404, -74.211],\n",
       "                    crs: L.CRS.EPSG3857,\n",
       "                    ...{\n",
       "  &quot;zoom&quot;: 7,\n",
       "  &quot;zoomControl&quot;: true,\n",
       "  &quot;preferCanvas&quot;: false,\n",
       "}\n",
       "\n",
       "                }\n",
       "            );\n",
       "\n",
       "            \n",
       "\n",
       "        \n",
       "    \n",
       "            var tile_layer_307c56245c945b20184b3b95648a49a5 = L.tileLayer(\n",
       "                &quot;https://tile.openstreetmap.org/{z}/{x}/{y}.png&quot;,\n",
       "                {\n",
       "  &quot;minZoom&quot;: 0,\n",
       "  &quot;maxZoom&quot;: 19,\n",
       "  &quot;maxNativeZoom&quot;: 19,\n",
       "  &quot;noWrap&quot;: false,\n",
       "  &quot;attribution&quot;: &quot;\\u0026copy; \\u003ca href=\\&quot;https://www.openstreetmap.org/copyright\\&quot;\\u003eOpenStreetMap\\u003c/a\\u003e contributors&quot;,\n",
       "  &quot;subdomains&quot;: &quot;abc&quot;,\n",
       "  &quot;detectRetina&quot;: false,\n",
       "  &quot;tms&quot;: false,\n",
       "  &quot;opacity&quot;: 1,\n",
       "}\n",
       "\n",
       "            );\n",
       "        \n",
       "    \n",
       "            tile_layer_307c56245c945b20184b3b95648a49a5.addTo(map_7dba7539adc39b49b53504e2ff26cb17);\n",
       "        \n",
       "    \n",
       "            var marker_38a0ccc837b92334ad627f18fbb5c7f6 = L.marker(\n",
       "                [11.2404, -74.211],\n",
       "                {\n",
       "}\n",
       "            ).addTo(map_7dba7539adc39b49b53504e2ff26cb17);\n",
       "        \n",
       "    \n",
       "            var marker_884bd78ed905714a169d2ef863a48df6 = L.marker(\n",
       "                [14.512, -75.153],\n",
       "                {\n",
       "}\n",
       "            ).addTo(map_7dba7539adc39b49b53504e2ff26cb17);\n",
       "        \n",
       "    \n",
       "        var popup_819b623c5a0f38187bba182128bafdff = L.popup({\n",
       "  &quot;maxWidth&quot;: &quot;100%&quot;,\n",
       "});\n",
       "\n",
       "        \n",
       "            \n",
       "                var html_bec6209c29ab9fbc1ce5442770f0b3a0 = $(`&lt;div id=&quot;html_bec6209c29ab9fbc1ce5442770f0b3a0&quot; style=&quot;width: 100.0%; height: 100.0%;&quot;&gt;Buoy closest to SM&lt;/div&gt;`)[0];\n",
       "                popup_819b623c5a0f38187bba182128bafdff.setContent(html_bec6209c29ab9fbc1ce5442770f0b3a0);\n",
       "            \n",
       "        \n",
       "\n",
       "        marker_884bd78ed905714a169d2ef863a48df6.bindPopup(popup_819b623c5a0f38187bba182128bafdff)\n",
       "        ;\n",
       "\n",
       "        \n",
       "    \n",
       "&lt;/script&gt;\n",
       "&lt;/html&gt;\" style=\"position:absolute;width:100%;height:100%;left:0;top:0;border:none !important;\" allowfullscreen webkitallowfullscreen mozallowfullscreen></iframe></div></div>"
      ],
      "text/plain": [
       "<folium.folium.Map at 0x191560858b0>"
      ]
     },
     "execution_count": 73,
     "metadata": {},
     "output_type": "execute_result"
    }
   ],
   "source": [
    "# Créer la carte centrée sur les coordonnées\n",
    "m = folium.Map(location=[latitude, longitude], zoom_start=7)\n",
    "\n",
    "# Ajouter un marqueur sur Buoy_51101\n",
    "marker1 = folium.Marker([latitude, longitude]).add_to(m)\n",
    "marker2 = folium.Marker([lat_buoy_near_SM, lon_buoy_near_SM], popup=\"Buoy closest to SM\").add_to(m)\n",
    "\n",
    "m"
   ]
  },
  {
   "cell_type": "code",
   "execution_count": null,
   "metadata": {},
   "outputs": [],
   "source": [
    "caribbean_df = stations_df[(stations_df['Lat'] >= 9) & \n",
    "                           (stations_df['Lat'] <= 25) & \n",
    "                           (stations_df['Lon'] >= -85) & \n",
    "                           (stations_df['Lon'] <= -60)]\n",
    "caribbean_df.shape[0]"
   ]
  },
  {
   "cell_type": "code",
   "execution_count": null,
   "metadata": {},
   "outputs": [],
   "source": [
    "buoys_ids = []\n",
    "\n",
    "for index, row in caribbean_df.iterrows():\n",
    "    buoys_ids.append(row['Station'])  \n",
    "print(len(buoys_ids))    "
   ]
  },
  {
   "cell_type": "code",
   "execution_count": null,
   "metadata": {},
   "outputs": [],
   "source": [
    "# Liste pour stocker les dataframes\n",
    "all_dataframes = []\n",
    "\n",
    "# Compteurs pour les bouées réussies et échouées\n",
    "successful_buoy = 0\n",
    "failed_buoy = 0\n",
    "\n",
    "# Parcours de chaque bouée\n",
    "for buoy_id in buoys_ids:\n",
    "    try:\n",
    "        # Récupère les observations en temps réel pour chaque bouée\n",
    "        df_buoy = NDBC.realtime_observations(buoy_id)\n",
    "\n",
    "        # Ajoute le dataframe à la liste\n",
    "        all_dataframes.append(df_buoy)\n",
    "        successful_buoy += 1\n",
    "\n",
    "        # Efface et met à jour la ligne des bouées réussies\n",
    "        print(f\"\\r✅ Bouées réussies : {successful_buoy}\", end='', flush=True)\n",
    "\n",
    "    except Exception:\n",
    "        # Incrémente le compteur des échouées pour toutes les erreurs\n",
    "        failed_buoy += 1\n",
    "\n",
    "        # Efface et met à jour la ligne des bouées échouées\n",
    "        print(f\"\\r❌ Bouées échouées : {failed_buoy}\", end='', flush=True)\n",
    "\n",
    "# Affichage final propre avec un saut de ligne\n",
    "print(\"\\n\")\n",
    "\n",
    "# Concaténation des dataframes si disponibles\n",
    "if all_dataframes:\n",
    "    final_df = pd.concat(all_dataframes, ignore_index=True)\n",
    "    print(f\"✔️ Concaténation terminée. Nombre de lignes : {final_df.shape[0]} \\n Nombre de colonnes : {final_df.shape[1]}\")\n",
    "    print(f\"✅ Bouées réussies : {successful_buoy}\", end='', flush=True)\n",
    "    print(f\"❌ Bouées échouées : {failed_buoy}\", end='', flush=True)\n",
    "\n",
    "else:\n",
    "    print(\"⚠️ Aucune donnée récupérée.\")\n"
   ]
  },
  {
   "cell_type": "code",
   "execution_count": null,
   "metadata": {},
   "outputs": [],
   "source": [
    "missing_percent = round((final_df.isnull().sum() / len(final_df)) * 100, 2)\n",
    "missing_percent_str = missing_percent.astype(str) + '%'\n",
    "print(missing_percent_str.sort_values(ascending=False))\n"
   ]
  },
  {
   "cell_type": "code",
   "execution_count": null,
   "metadata": {},
   "outputs": [],
   "source": [
    "def count_null_values(df) :\n",
    "    print(f\"For {df.shape[0]} rows : \\n\")\n",
    "    for col in df.columns:\n",
    "        col_null_values_count = df[col].isnull().sum()\n",
    "        print(f\" '{col}' has {col_null_values_count} null values \\n\")\n",
    "count_null_values(final_df)"
   ]
  },
  {
   "cell_type": "code",
   "execution_count": null,
   "metadata": {},
   "outputs": [],
   "source": [
    "def handle_null_values(df):\n",
    "    # Calcul des pourcentages de valeurs manquantes\n",
    "    missing_percent = round((df.isnull().sum() / len(df)) * 100, 2)\n",
    "    missing_percent_str = missing_percent.astype(str) + '%'\n",
    "    \n",
    "    # Afficher les colonnes et leurs pourcentages de valeurs manquantes\n",
    "    print(\"Pourcentages de valeurs manquantes par colonne :\")\n",
    "    print(missing_percent_str.sort_values(ascending=False))\n",
    "    \n",
    "    # Gestion des valeurs manquantes\n",
    "    for column in df.columns:\n",
    "        null_percentage = missing_percent[column]\n",
    "        \n",
    "        if null_percentage == 100:\n",
    "            # Si 100% des valeurs sont manquantes, on supprime la colonne\n",
    "            print(f\"Supprime la colonne : {column} (100% de valeurs manquantes)\")\n",
    "            df = df.drop(column, axis=1)\n",
    "        elif null_percentage > 50:\n",
    "            # Si plus de 50% des valeurs sont manquantes, on supprime la colonne\n",
    "            print(f\"Supprime la colonne : {column} ({null_percentage}% de valeurs manquantes)\")\n",
    "            df = df.drop(column, axis=1)\n",
    "        elif null_percentage > 0:\n",
    "            # Si moins de 50% des valeurs sont manquantes, on impute avec la médiane\n",
    "            print(f\"Impute la colonne : {column} avec la médiane ({null_percentage}% de valeurs manquantes)\")\n",
    "            median_value = df[column].median()\n",
    "            df[column] = df[column].fillna(median_value)\n",
    "    \n",
    "    # Retourner le DataFrame modifié\n",
    "    return df\n",
    "\n",
    "# Exemple d'appel de la fonction\n",
    "final_df = handle_null_values(final_df)\n",
    "\n",
    "print(final_df.shape)\n",
    "final_df.head()"
   ]
  },
  {
   "cell_type": "code",
   "execution_count": null,
   "metadata": {},
   "outputs": [],
   "source": [
    "\n",
    "# Convertir la colonne 'time' en datetime et la garder comme une colonne\n",
    "df_marine['time'] = pd.to_datetime(df_marine['time'])\n",
    "\n",
    "# Configurer 'time' comme index, puis resampler\n",
    "df_marine.set_index('time', inplace=True)\n",
    "\n",
    "# Resampler à l'heure et prendre la moyenne\n",
    "df_marine = df_marine.resample('h').mean()\n",
    "\n",
    "# Optionnel : Si tu veux garder 'time' comme une colonne, on peut le réinitialiser\n",
    "df_marine.reset_index(inplace=True)\n",
    "\n",
    "# Afficher le résultat\n",
    "df_marine.head()"
   ]
  },
  {
   "cell_type": "code",
   "execution_count": null,
   "metadata": {},
   "outputs": [],
   "source": [
    "# Arrondir toutes les colonnes numériques (int ou float) à 2 chiffres après la virgule\n",
    "df_marine = df_marine.applymap(lambda x: round(x, 2) if isinstance(x, (int, float)) else x)\n",
    "\n",
    "# Vérifier le résultat\n",
    "df_marine.head()"
   ]
  },
  {
   "cell_type": "code",
   "execution_count": null,
   "metadata": {},
   "outputs": [],
   "source": [
    "lat = 24.359\n",
    "lon = -162.081"
   ]
  },
  {
   "cell_type": "markdown",
   "metadata": {},
   "source": [
    "Meteomatics API"
   ]
  },
  {
   "cell_type": "code",
   "execution_count": null,
   "metadata": {},
   "outputs": [],
   "source": [
    "def read_credentials():\n",
    "    with open('credentials.json', 'r') as file:\n",
    "        credentials = json.load(file)\n",
    "    \n",
    "    meteo_username = credentials.get('username')\n",
    "    meteo_password = credentials.get('password')\n",
    "    \n",
    "    return meteo_username, meteo_password\n"
   ]
  },
  {
   "cell_type": "code",
   "execution_count": null,
   "metadata": {},
   "outputs": [],
   "source": [
    "# Définir les paramètres\n",
    "parameters = [\n",
    "        'wind_speed_10m:ms',\t\n",
    "        'wind_dir_10m:d',\n",
    "        'wind_gusts_10m_1h:ms',\n",
    "        't_2m:C',\n",
    "        't_max_2m_24h:C',\n",
    "        't_min_2m_24h:C',\n",
    "        'msl_pressure:hPa',\n",
    "        'precip_1h:mm'\n",
    "    ]\n",
    "\n",
    "# Définir les coordonnées\n",
    "coordinates = [(lat, lon)]\n",
    "\n",
    "# Définir le modèle\n",
    "model = 'mix'\n",
    "# Début URL de l'API\n",
    "DEFAULT_API_BASE_URL = \"https://api.meteomatics.com\"\n",
    "enddate = datetime.now(timezone.utc).replace(minute=0, second=0, microsecond=0)\n",
    "startdate = enddate - timedelta(days=1)\n",
    "interval = timedelta(hours=1)\n",
    "\n",
    "# Fonction de requête API Météo\n",
    "def meteo_api_request(parameters, coordinates, model, DEFAULT_API_BASE_URL, startdate, enddate, interval):\n",
    "\n",
    "    # Appel de la fonction read_credentials pour obtenir les informations d'identification\n",
    "    meteo_username, meteo_password = read_credentials()\n",
    "    \n",
    "    # Récupérer les données\n",
    "    df_meteo = api.query_time_series(coordinates, startdate, enddate, interval, parameters, meteo_username, meteo_password, model=model)\n",
    "    df_meteo.reset_index(inplace=True)\n",
    "    return df_meteo\n",
    "\n",
    "df_meteo=meteo_api_request(parameters, coordinates, model, DEFAULT_API_BASE_URL, startdate, enddate, interval)\n",
    "df_meteo = df_meteo.rename(columns={'validdate': 'time'})\n",
    "df_meteo.head()"
   ]
  },
  {
   "cell_type": "code",
   "execution_count": null,
   "metadata": {},
   "outputs": [],
   "source": [
    "df_marine.head()"
   ]
  },
  {
   "cell_type": "markdown",
   "metadata": {},
   "source": [
    "Check first rows"
   ]
  },
  {
   "cell_type": "code",
   "execution_count": null,
   "metadata": {},
   "outputs": [],
   "source": [
    "def convert_to_datetime(value):\n",
    "    try:\n",
    "        # Spécifier dayfirst=True pour éviter le warning avec le format %d/%m/%Y\n",
    "        return pd.to_datetime(value, errors='coerce', dayfirst=True).strftime('%d/%m/%Y-%H:%M') if pd.notna(value) else None\n",
    "    except Exception as e:\n",
    "        return None  # Retourner None si la conversion échoue\n",
    "\n",
    "\n",
    "# Appliquer la fonction sur la colonne 'time' avec apply\n",
    "df_marine['time'] = df_marine['time'].apply(convert_to_datetime)\n",
    "df_meteo['time'] = df_meteo['time'].apply(convert_to_datetime)"
   ]
  },
  {
   "cell_type": "markdown",
   "metadata": {},
   "source": [
    "Rename Columns + Delete Useless Ones"
   ]
  },
  {
   "cell_type": "code",
   "execution_count": null,
   "metadata": {},
   "outputs": [],
   "source": [
    "try:\n",
    "    # Renommage des colonnes pour df_marine\n",
    "    rename_cols = {\n",
    "        'wind_direction': 'Wind Dir (°)', 'wind_speed': 'Wind Speed (ms)',\n",
    "        'wind_gust': 'Wind Gusts 1h (ms)', 'wave_height': 'Wave Height (m)',\n",
    "        'dominant_wave_period': 'Dominant Wave Period (s)', 'average_wave_period': 'Avg Wave Period (s)',\n",
    "        'dominant_wave_direction': 'Dominant Wave Direction', 'air_temperature': 'Air Temperature',\n",
    "        'water_temperature': 'Water Temperature', 'time': 'Datetime', 'pressure': 'Pressure'\n",
    "    }\n",
    "    \n",
    "    # Renommer avec vérif\n",
    "    for old_col, new_col in rename_cols.items():\n",
    "        if old_col in df_marine.columns:\n",
    "            df_marine.rename(columns={old_col: new_col}, inplace=True)\n",
    "        else:\n",
    "            print(f\"Colonne non trouvée pour renommage : {old_col}\")\n",
    "\n",
    "    # Supprimer les colonnes inutiles\n",
    "    for col in ['dewpoint', 'visibility', '3hr_pressure_tendency', 'water_level_above_mean', 'lat', 'lon']:\n",
    "        if col in df_marine.columns:\n",
    "            df_marine.drop(columns=col, inplace=True)\n",
    "        else:\n",
    "            print(f\"Colonne non trouvée pour suppression : {col}\")\n",
    "\n",
    "    # Pour df_meteo\n",
    "    for col in ['lat', 'lon']:\n",
    "        if col in df_meteo.columns:\n",
    "            df_meteo.drop(columns=col, inplace=True)\n",
    "        else:\n",
    "            print(f\"Colonne non trouvée dans df_meteo : {col}\")\n",
    "\n",
    "    # Renommer 'time' en 'Datetime' dans df_meteo\n",
    "    if 'time' in df_meteo.columns:\n",
    "        df_meteo.rename(columns={'time': 'Datetime'}, inplace=True)\n",
    "    else:\n",
    "        print(\"Colonne 'time' non trouvée dans df_meteo pour renommage.\")\n",
    "\n",
    "except KeyError as e:\n",
    "    print(f\"Erreur de clé : {e}\")\n"
   ]
  },
  {
   "cell_type": "code",
   "execution_count": null,
   "metadata": {},
   "outputs": [],
   "source": [
    "df_meteo.head()"
   ]
  },
  {
   "cell_type": "code",
   "execution_count": null,
   "metadata": {},
   "outputs": [],
   "source": [
    "print(f\"Marine Data Rows Amount : {df_marine.shape[0]}\")\n",
    "marine_null_counts = df_marine.isnull().sum()\n",
    "\n",
    "print(f\"Marine Data Null Values Amount: \\n{marine_null_counts}\")\n"
   ]
  },
  {
   "cell_type": "code",
   "execution_count": null,
   "metadata": {},
   "outputs": [],
   "source": [
    "def handle_null_values(df):\n",
    "    # Itérer sur les colonnes du DataFrame\n",
    "    for column in df.columns:\n",
    "        # Si la colonne est numérique, on remplace les valeurs nulles par la médiane\n",
    "        if pd.api.types.is_numeric_dtype(df[column]):\n",
    "            df[column] = df[column].fillna(df[column].median())  # Remplacer sans inplace=True\n",
    "        # Sinon, on supprime les lignes où il y a des valeurs nulles dans cette colonne\n",
    "        else:\n",
    "            df.dropna(subset=[column], inplace=True)\n",
    "    \n",
    "    return df  # Retourner le DataFrame après traitement\n",
    "\n",
    "# Exemple d'utilisation\n",
    "df_marine = handle_null_values(df_marine)\n",
    "df_meteo = handle_null_values(df_meteo)\n",
    "\n",
    "# Vérifier le résultat\n",
    "df_marine.isnull().sum() # Afficher les valeurs nulles restantes\n",
    "df_meteo.isnull().sum() # Afficher les valeurs nulles restantes"
   ]
  },
  {
   "cell_type": "code",
   "execution_count": null,
   "metadata": {},
   "outputs": [],
   "source": [
    "df_meteo.head()"
   ]
  },
  {
   "cell_type": "code",
   "execution_count": null,
   "metadata": {},
   "outputs": [],
   "source": [
    "print(f\"Number of Rows in marine DataFrame : {df_marine.shape[0]}\")\n",
    "print(f\"Number of Rows in meteo DataFrame : {df_meteo.shape[0]}\")"
   ]
  },
  {
   "cell_type": "markdown",
   "metadata": {},
   "source": [
    "Merging Dataframes"
   ]
  },
  {
   "cell_type": "code",
   "execution_count": null,
   "metadata": {},
   "outputs": [],
   "source": [
    "intersection_df = pd.merge(df_marine, df_meteo)\n",
    "intersection_df.head()"
   ]
  },
  {
   "cell_type": "code",
   "execution_count": null,
   "metadata": {},
   "outputs": [],
   "source": [
    "# Effectuer le merge entre df_marine et df_meteo sur la colonne 'time'\n",
    "df_result = pd.merge(df_marine, df_meteo, on='Datetime', how='right')  # 'inner' pour ne garder que les lignes avec des 'time' correspondants\n",
    "\n",
    "# Afficher le nombre de lignes de la DataFrame résultante\n",
    "num_rows = df_result.shape[0]\n",
    "print(f\"Nombre de lignes dans la DataFrame résultante : {num_rows}\")\n"
   ]
  },
  {
   "cell_type": "code",
   "execution_count": null,
   "metadata": {},
   "outputs": [],
   "source": [
    "columns_to_drop = ['lat', 'lon']\n",
    "\n",
    "def drop_columns(df, columns_to_drop):\n",
    "    for col in columns_to_drop:\n",
    "        if col in df.columns:\n",
    "            df = df.drop(columns=col)\n",
    "        else:\n",
    "            print(f\"'{col}' is not found in the DataFrame\")  # Affiche au lieu de retourner une chaîne\n",
    "    return df  # Toujours retourner le DataFrame\n",
    "\n",
    "df = drop_columns(df_result, columns_to_drop)\n",
    "\n",
    "df.head()\n"
   ]
  },
  {
   "cell_type": "code",
   "execution_count": null,
   "metadata": {},
   "outputs": [],
   "source": [
    "# Convertir 'Datetime' en format datetime\n",
    "df['Datetime'] = pd.to_datetime(df['Datetime'], format='%d/%m/%Y-%H:%M')\n",
    "\n",
    "# Définir une fonction pour classifier les périodes de la journée\n",
    "def get_day_period(hour):\n",
    "    if 5 <= hour < 12:\n",
    "        return 'Matin'\n",
    "    elif 12 <= hour < 17:\n",
    "        return 'Midi'\n",
    "    elif 17 <= hour < 21:\n",
    "        return 'Soir'\n",
    "    else:\n",
    "        return 'Nuit'\n",
    "\n",
    "# Appliquer la fonction et créer la nouvelle colonne\n",
    "df['Day Period'] = df['Datetime'].dt.hour.apply(get_day_period)\n",
    "\n",
    "df = drop_columns(df, ['Datetime'])\n",
    "# Voir le résultat\n",
    "df.head()"
   ]
  },
  {
   "cell_type": "code",
   "execution_count": null,
   "metadata": {},
   "outputs": [],
   "source": [
    "marine_data_sheet = spreadsheet.get_worksheet(0)  # Accéder à la première feuille (gid=0)\n",
    "marine_data = marine_data_sheet.get_all_records()  # Récupérer toutes les données de la feuille\n",
    "print(marine_data)  # Afficher les données"
   ]
  },
  {
   "cell_type": "code",
   "execution_count": null,
   "metadata": {},
   "outputs": [],
   "source": []
  }
 ],
 "metadata": {
  "kernelspec": {
   "display_name": "Python 3",
   "language": "python",
   "name": "python3"
  },
  "language_info": {
   "codemirror_mode": {
    "name": "ipython",
    "version": 3
   },
   "file_extension": ".py",
   "mimetype": "text/x-python",
   "name": "python",
   "nbconvert_exporter": "python",
   "pygments_lexer": "ipython3",
   "version": "3.9.13"
  }
 },
 "nbformat": 4,
 "nbformat_minor": 2
}
