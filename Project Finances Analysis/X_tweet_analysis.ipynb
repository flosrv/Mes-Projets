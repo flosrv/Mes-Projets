{
 "cells": [
  {
   "cell_type": "code",
   "execution_count": 1,
   "metadata": {},
   "outputs": [],
   "source": [
    "import tweepy"
   ]
  },
  {
   "cell_type": "code",
   "execution_count": 5,
   "metadata": {},
   "outputs": [
    {
     "name": "stdout",
     "output_type": "stream",
     "text": [
      "Tweeted on: 2025-02-22 19:24:41+00:00\n",
      "Content: @catturd2 Yes\n",
      "----------\n",
      "Tweeted on: 2025-02-22 19:20:35+00:00\n",
      "Content: RT @epaleezeldin: UPDATE: I just cancelled another 21 wasteful DEI and Environmental Justice grants, with the help of our amazing @DOGE tea…\n",
      "----------\n",
      "Tweeted on: 2025-02-22 19:19:37+00:00\n",
      "Content: So wrong https://t.co/MDXgMzkQOM\n",
      "----------\n",
      "Tweeted on: 2025-02-22 19:18:51+00:00\n",
      "Content: Cool, rapid evolution of 3D game creation using @Grok! https://t.co/P4PTuvrQ6Q\n",
      "----------\n",
      "Tweeted on: 2025-02-22 19:17:12+00:00\n",
      "Content: RT @POTUS: \"We pay tribute to the generations of black legends, champions, warriors, and patriots who helped drive our country forward. Tog…\n",
      "----------\n",
      "Tweeted on: 2025-02-22 19:10:53+00:00\n",
      "Content: https://t.co/vcoYDwfx7m\n",
      "----------\n",
      "Tweeted on: 2025-02-22 19:03:13+00:00\n",
      "Content: @travelingflying 🤣💯\n",
      "----------\n",
      "Tweeted on: 2025-02-22 19:02:39+00:00\n",
      "Content: 💯 https://t.co/X1Y5NSrhWB\n",
      "----------\n",
      "Tweeted on: 2025-02-22 19:02:02+00:00\n",
      "Content: True https://t.co/UJ1Kp0TK3P\n",
      "----------\n",
      "Tweeted on: 2025-02-22 19:01:36+00:00\n",
      "Content: This is false. \n",
      "\n",
      "Reuters is lying. They are second only to AP (Associated Propaganda) as legacy news liars. https://t.co/UwbDPk7MWj\n",
      "----------\n"
     ]
    }
   ],
   "source": [
    "import tweepy\n",
    "\n",
    "# API v2 Bearer Token\n",
    "bearer_token = \"AAAAAAAAAAAAAAAAAAAAAMVUtAEAAAAAJBwuLAy2M1EZtR6qaypBe5ZicLA%3DaqA5IGD0GQHOMyyc2bPOepVb9i1dL2aKcGEwvFHHYSDis42Ctw\"\n",
    "\n",
    "# Initialize the client\n",
    "client = tweepy.Client(bearer_token=bearer_token)\n",
    "\n",
    "# Target Twitter handle (without @)\n",
    "target_username = \"elonmusk\"\n",
    "\n",
    "# Get user ID from username\n",
    "user = client.get_user(username=target_username)\n",
    "user_id = user.data.id\n",
    "\n",
    "# Fetch recent tweets from the user\n",
    "tweets = client.get_users_tweets(id=user_id, max_results=10, tweet_fields=[\"created_at\", \"text\"])\n",
    "\n",
    "# Print tweets\n",
    "for tweet in tweets.data:\n",
    "    print(f\"Tweeted on: {tweet.created_at}\")\n",
    "    print(f\"Content: {tweet.text}\")\n",
    "    print(\"----------\")\n"
   ]
  },
  {
   "cell_type": "code",
   "execution_count": null,
   "metadata": {},
   "outputs": [
    {
     "name": "stderr",
     "output_type": "stream",
     "text": [
      "C:\\Users\\f.gionnane\\AppData\\Roaming\\Python\\Python313\\site-packages\\tweepy\\api.py:300: SyntaxWarning: invalid escape sequence '\\['\n",
      "  \"\"\"home_timeline(*, count, since_id, max_id, trim_user, \\\n",
      "C:\\Users\\f.gionnane\\AppData\\Roaming\\Python\\Python313\\site-packages\\tweepy\\api.py:340: SyntaxWarning: invalid escape sequence '\\['\n",
      "  \"\"\"mentions_timeline(*, count, since_id, max_id, trim_user, \\\n",
      "C:\\Users\\f.gionnane\\AppData\\Roaming\\Python\\Python313\\site-packages\\tweepy\\api.py:375: SyntaxWarning: invalid escape sequence '\\['\n",
      "  \"\"\"user_timeline(*, user_id, screen_name, since_id, count, max_id, \\\n",
      "C:\\Users\\f.gionnane\\AppData\\Roaming\\Python\\Python313\\site-packages\\tweepy\\api.py:425: SyntaxWarning: invalid escape sequence '\\['\n",
      "  \"\"\"get_favorites(*, user_id, screen_name, count, since_id, max_id, \\\n",
      "C:\\Users\\f.gionnane\\AppData\\Roaming\\Python\\Python313\\site-packages\\tweepy\\api.py:466: SyntaxWarning: invalid escape sequence '\\['\n",
      "  \"\"\"lookup_statuses(id, *, include_entities, trim_user, map, \\\n",
      "C:\\Users\\f.gionnane\\AppData\\Roaming\\Python\\Python313\\site-packages\\tweepy\\api.py:608: SyntaxWarning: invalid escape sequence '\\['\n",
      "  \"\"\"get_retweeter_ids(id, *, count, cursor, stringify_ids)\n",
      "C:\\Users\\f.gionnane\\AppData\\Roaming\\Python\\Python313\\site-packages\\tweepy\\api.py:643: SyntaxWarning: invalid escape sequence '\\['\n",
      "  \"\"\"get_retweets(id, *, count, trim_user)\n",
      "C:\\Users\\f.gionnane\\AppData\\Roaming\\Python\\Python313\\site-packages\\tweepy\\api.py:676: SyntaxWarning: invalid escape sequence '\\['\n",
      "  \"\"\"get_retweets_of_me(*, count, since_id, max_id, trim_user, \\\n",
      "C:\\Users\\f.gionnane\\AppData\\Roaming\\Python\\Python313\\site-packages\\tweepy\\api.py:1120: SyntaxWarning: invalid escape sequence '\\ '\n",
      "  \"\"\"search_tweets(q, *, geocode, lang, locale, result_type, count, \\\n",
      "C:\\Users\\f.gionnane\\AppData\\Roaming\\Python\\Python313\\site-packages\\tweepy\\api.py:1232: SyntaxWarning: invalid escape sequence '\\['\n",
      "  \"\"\"get_lists(*, user_id, screen_name, reverse)\n",
      "C:\\Users\\f.gionnane\\AppData\\Roaming\\Python\\Python313\\site-packages\\tweepy\\api.py:1277: SyntaxWarning: invalid escape sequence '\\['\n",
      "  \"\"\"get_list_members(*, list_id, slug, owner_screen_name, owner_id, \\\n",
      "C:\\Users\\f.gionnane\\AppData\\Roaming\\Python\\Python313\\site-packages\\tweepy\\api.py:1374: SyntaxWarning: invalid escape sequence '\\['\n",
      "  \"\"\"get_list_memberships(*, user_id, screen_name, count, cursor, \\\n",
      "C:\\Users\\f.gionnane\\AppData\\Roaming\\Python\\Python313\\site-packages\\tweepy\\api.py:1417: SyntaxWarning: invalid escape sequence '\\['\n",
      "  \"\"\"get_list_ownerships(*, user_id, screen_name, count, cursor)\n",
      "C:\\Users\\f.gionnane\\AppData\\Roaming\\Python\\Python313\\site-packages\\tweepy\\api.py:1484: SyntaxWarning: invalid escape sequence '\\['\n",
      "  \"\"\"list_timeline( \\\n",
      "C:\\Users\\f.gionnane\\AppData\\Roaming\\Python\\Python313\\site-packages\\tweepy\\api.py:1535: SyntaxWarning: invalid escape sequence '\\['\n",
      "  \"\"\"get_list_subscribers( \\\n",
      "C:\\Users\\f.gionnane\\AppData\\Roaming\\Python\\Python313\\site-packages\\tweepy\\api.py:1634: SyntaxWarning: invalid escape sequence '\\['\n",
      "  \"\"\"get_list_subscriptions(*, user_id, screen_name, count, cursor)\n",
      "C:\\Users\\f.gionnane\\AppData\\Roaming\\Python\\Python313\\site-packages\\tweepy\\api.py:2002: SyntaxWarning: invalid escape sequence '\\['\n",
      "  \"\"\"get_follower_ids(*, user_id, screen_name, cursor, stringify_ids, \\\n",
      "C:\\Users\\f.gionnane\\AppData\\Roaming\\Python\\Python313\\site-packages\\tweepy\\api.py:2041: SyntaxWarning: invalid escape sequence '\\['\n",
      "  \"\"\"get_followers(*, user_id, screen_name, cursor, count, skip_status, \\\n",
      "C:\\Users\\f.gionnane\\AppData\\Roaming\\Python\\Python313\\site-packages\\tweepy\\api.py:2083: SyntaxWarning: invalid escape sequence '\\['\n",
      "  \"\"\"get_friend_ids(*, user_id, screen_name, cursor, stringify_ids, \\\n",
      "C:\\Users\\f.gionnane\\AppData\\Roaming\\Python\\Python313\\site-packages\\tweepy\\api.py:2122: SyntaxWarning: invalid escape sequence '\\['\n",
      "  \"\"\"get_friends(*, user_id, screen_name, cursor, count, skip_status, \\\n",
      "C:\\Users\\f.gionnane\\AppData\\Roaming\\Python\\Python313\\site-packages\\tweepy\\api.py:2164: SyntaxWarning: invalid escape sequence '\\['\n",
      "  \"\"\"incoming_friendships(*, cursor, stringify_ids)\n",
      "C:\\Users\\f.gionnane\\AppData\\Roaming\\Python\\Python313\\site-packages\\tweepy\\api.py:2195: SyntaxWarning: invalid escape sequence '\\['\n",
      "  \"\"\"lookup_friendships(*, screen_name, user_id)\n",
      "C:\\Users\\f.gionnane\\AppData\\Roaming\\Python\\Python313\\site-packages\\tweepy\\api.py:2224: SyntaxWarning: invalid escape sequence '\\['\n",
      "  \"\"\"no_retweets_friendships(*, stringify_ids)\n",
      "C:\\Users\\f.gionnane\\AppData\\Roaming\\Python\\Python313\\site-packages\\tweepy\\api.py:2251: SyntaxWarning: invalid escape sequence '\\['\n",
      "  \"\"\"outgoing_friendships(*, cursor, stringify_ids)\n",
      "C:\\Users\\f.gionnane\\AppData\\Roaming\\Python\\Python313\\site-packages\\tweepy\\api.py:2318: SyntaxWarning: invalid escape sequence '\\['\n",
      "  \"\"\"lookup_users(*, screen_name, user_id, include_entities, tweet_mode)\n",
      "C:\\Users\\f.gionnane\\AppData\\Roaming\\Python\\Python313\\site-packages\\tweepy\\api.py:2365: SyntaxWarning: invalid escape sequence '\\['\n",
      "  \"\"\"search_users(q, *, page, count, include_entities)\n",
      "C:\\Users\\f.gionnane\\AppData\\Roaming\\Python\\Python313\\site-packages\\tweepy\\api.py:2584: SyntaxWarning: invalid escape sequence '\\['\n",
      "  \"\"\"get_saved_searches()\n",
      "C:\\Users\\f.gionnane\\AppData\\Roaming\\Python\\Python313\\site-packages\\tweepy\\api.py:2899: SyntaxWarning: invalid escape sequence '\\['\n",
      "  \"\"\"get_blocked_ids(*, stringify_ids, cursor)\n",
      "C:\\Users\\f.gionnane\\AppData\\Roaming\\Python\\Python313\\site-packages\\tweepy\\api.py:2931: SyntaxWarning: invalid escape sequence '\\['\n",
      "  \"\"\"get_blocks(*, include_entities, skip_status, cursor)\n",
      "C:\\Users\\f.gionnane\\AppData\\Roaming\\Python\\Python313\\site-packages\\tweepy\\api.py:2965: SyntaxWarning: invalid escape sequence '\\['\n",
      "  \"\"\"get_muted_ids(*, stringify_ids, cursor)\n",
      "C:\\Users\\f.gionnane\\AppData\\Roaming\\Python\\Python313\\site-packages\\tweepy\\api.py:2996: SyntaxWarning: invalid escape sequence '\\['\n",
      "  \"\"\"get_mutes(*, cursor, include_entities, skip_status)\n",
      "C:\\Users\\f.gionnane\\AppData\\Roaming\\Python\\Python313\\site-packages\\tweepy\\api.py:3211: SyntaxWarning: invalid escape sequence '\\['\n",
      "  \"\"\"get_direct_messages(*, count, cursor)\n",
      "C:\\Users\\f.gionnane\\AppData\\Roaming\\Python\\Python313\\site-packages\\tweepy\\api.py:3880: SyntaxWarning: invalid escape sequence '\\['\n",
      "  \"\"\"reverse_geocode(lat, long, *, accuracy, granularity, max_results)\n",
      "C:\\Users\\f.gionnane\\AppData\\Roaming\\Python\\Python313\\site-packages\\tweepy\\api.py:3921: SyntaxWarning: invalid escape sequence '\\['\n",
      "  \"\"\"search_geo(*, lat, long, query, ip, granularity, max_results)\n"
     ]
    },
    {
     "ename": "Unauthorized",
     "evalue": "401 Unauthorized\n32 - Could not authenticate you.",
     "output_type": "error",
     "traceback": [
      "\u001b[1;31m---------------------------------------------------------------------------\u001b[0m",
      "\u001b[1;31mUnauthorized\u001b[0m                              Traceback (most recent call last)",
      "Cell \u001b[1;32mIn[3], line 7\u001b[0m\n\u001b[0;32m      1\u001b[0m auth \u001b[38;5;241m=\u001b[39m tweepy\u001b[38;5;241m.\u001b[39mOAuth1UserHandler(\n\u001b[0;32m      2\u001b[0m     api_key, api_secret_key, access_token, access_token_secret\n\u001b[0;32m      3\u001b[0m )\n\u001b[0;32m      5\u001b[0m api \u001b[38;5;241m=\u001b[39m tweepy\u001b[38;5;241m.\u001b[39mAPI(auth)\n\u001b[1;32m----> 7\u001b[0m public_tweets \u001b[38;5;241m=\u001b[39m \u001b[43mapi\u001b[49m\u001b[38;5;241;43m.\u001b[39;49m\u001b[43mhome_timeline\u001b[49m\u001b[43m(\u001b[49m\u001b[43m)\u001b[49m\n\u001b[0;32m      8\u001b[0m \u001b[38;5;28;01mfor\u001b[39;00m tweet \u001b[38;5;129;01min\u001b[39;00m public_tweets:\n\u001b[0;32m      9\u001b[0m     \u001b[38;5;28mprint\u001b[39m(tweet\u001b[38;5;241m.\u001b[39mtext)\n",
      "File \u001b[1;32m~\\AppData\\Roaming\\Python\\Python313\\site-packages\\tweepy\\api.py:32\u001b[0m, in \u001b[0;36mpagination.<locals>.decorator.<locals>.wrapper\u001b[1;34m(*args, **kwargs)\u001b[0m\n\u001b[0;32m     30\u001b[0m \u001b[38;5;129m@functools\u001b[39m\u001b[38;5;241m.\u001b[39mwraps(method)\n\u001b[0;32m     31\u001b[0m \u001b[38;5;28;01mdef\u001b[39;00m\u001b[38;5;250m \u001b[39m\u001b[38;5;21mwrapper\u001b[39m(\u001b[38;5;241m*\u001b[39margs, \u001b[38;5;241m*\u001b[39m\u001b[38;5;241m*\u001b[39mkwargs):\n\u001b[1;32m---> 32\u001b[0m     \u001b[38;5;28;01mreturn\u001b[39;00m \u001b[43mmethod\u001b[49m\u001b[43m(\u001b[49m\u001b[38;5;241;43m*\u001b[39;49m\u001b[43margs\u001b[49m\u001b[43m,\u001b[49m\u001b[43m \u001b[49m\u001b[38;5;241;43m*\u001b[39;49m\u001b[38;5;241;43m*\u001b[39;49m\u001b[43mkwargs\u001b[49m\u001b[43m)\u001b[49m\n",
      "File \u001b[1;32m~\\AppData\\Roaming\\Python\\Python313\\site-packages\\tweepy\\api.py:45\u001b[0m, in \u001b[0;36mpayload.<locals>.decorator.<locals>.wrapper\u001b[1;34m(*args, **kwargs)\u001b[0m\n\u001b[0;32m     43\u001b[0m kwargs[\u001b[38;5;124m'\u001b[39m\u001b[38;5;124mpayload_list\u001b[39m\u001b[38;5;124m'\u001b[39m] \u001b[38;5;241m=\u001b[39m payload_list\n\u001b[0;32m     44\u001b[0m kwargs[\u001b[38;5;124m'\u001b[39m\u001b[38;5;124mpayload_type\u001b[39m\u001b[38;5;124m'\u001b[39m] \u001b[38;5;241m=\u001b[39m payload_type\n\u001b[1;32m---> 45\u001b[0m \u001b[38;5;28;01mreturn\u001b[39;00m \u001b[43mmethod\u001b[49m\u001b[43m(\u001b[49m\u001b[38;5;241;43m*\u001b[39;49m\u001b[43margs\u001b[49m\u001b[43m,\u001b[49m\u001b[43m \u001b[49m\u001b[38;5;241;43m*\u001b[39;49m\u001b[38;5;241;43m*\u001b[39;49m\u001b[43mkwargs\u001b[49m\u001b[43m)\u001b[49m\n",
      "File \u001b[1;32m~\\AppData\\Roaming\\Python\\Python313\\site-packages\\tweepy\\api.py:330\u001b[0m, in \u001b[0;36mAPI.home_timeline\u001b[1;34m(self, **kwargs)\u001b[0m\n\u001b[0;32m    297\u001b[0m \u001b[38;5;129m@pagination\u001b[39m(mode\u001b[38;5;241m=\u001b[39m\u001b[38;5;124m'\u001b[39m\u001b[38;5;124mid\u001b[39m\u001b[38;5;124m'\u001b[39m)\n\u001b[0;32m    298\u001b[0m \u001b[38;5;129m@payload\u001b[39m(\u001b[38;5;124m'\u001b[39m\u001b[38;5;124mstatus\u001b[39m\u001b[38;5;124m'\u001b[39m, \u001b[38;5;28mlist\u001b[39m\u001b[38;5;241m=\u001b[39m\u001b[38;5;28;01mTrue\u001b[39;00m)\n\u001b[0;32m    299\u001b[0m \u001b[38;5;28;01mdef\u001b[39;00m\u001b[38;5;250m \u001b[39m\u001b[38;5;21mhome_timeline\u001b[39m(\u001b[38;5;28mself\u001b[39m, \u001b[38;5;241m*\u001b[39m\u001b[38;5;241m*\u001b[39mkwargs):\n\u001b[0;32m    300\u001b[0m \u001b[38;5;250m    \u001b[39m\u001b[38;5;124;03m\"\"\"home_timeline(*, count, since_id, max_id, trim_user, \\\u001b[39;00m\n\u001b[0;32m    301\u001b[0m \u001b[38;5;124;03m                     exclude_replies, include_entities)\u001b[39;00m\n\u001b[0;32m    302\u001b[0m \n\u001b[1;32m   (...)\u001b[0m\n\u001b[0;32m    328\u001b[0m \u001b[38;5;124;03m    https://developer.twitter.com/en/docs/twitter-api/v1/tweets/timelines/api-reference/get-statuses-home_timeline\u001b[39;00m\n\u001b[0;32m    329\u001b[0m \u001b[38;5;124;03m    \"\"\"\u001b[39;00m\n\u001b[1;32m--> 330\u001b[0m     \u001b[38;5;28;01mreturn\u001b[39;00m \u001b[38;5;28;43mself\u001b[39;49m\u001b[38;5;241;43m.\u001b[39;49m\u001b[43mrequest\u001b[49m\u001b[43m(\u001b[49m\n\u001b[0;32m    331\u001b[0m \u001b[43m        \u001b[49m\u001b[38;5;124;43m'\u001b[39;49m\u001b[38;5;124;43mGET\u001b[39;49m\u001b[38;5;124;43m'\u001b[39;49m\u001b[43m,\u001b[49m\u001b[43m \u001b[49m\u001b[38;5;124;43m'\u001b[39;49m\u001b[38;5;124;43mstatuses/home_timeline\u001b[39;49m\u001b[38;5;124;43m'\u001b[39;49m\u001b[43m,\u001b[49m\u001b[43m \u001b[49m\u001b[43mendpoint_parameters\u001b[49m\u001b[38;5;241;43m=\u001b[39;49m\u001b[43m(\u001b[49m\n\u001b[0;32m    332\u001b[0m \u001b[43m            \u001b[49m\u001b[38;5;124;43m'\u001b[39;49m\u001b[38;5;124;43mcount\u001b[39;49m\u001b[38;5;124;43m'\u001b[39;49m\u001b[43m,\u001b[49m\u001b[43m \u001b[49m\u001b[38;5;124;43m'\u001b[39;49m\u001b[38;5;124;43msince_id\u001b[39;49m\u001b[38;5;124;43m'\u001b[39;49m\u001b[43m,\u001b[49m\u001b[43m \u001b[49m\u001b[38;5;124;43m'\u001b[39;49m\u001b[38;5;124;43mmax_id\u001b[39;49m\u001b[38;5;124;43m'\u001b[39;49m\u001b[43m,\u001b[49m\u001b[43m \u001b[49m\u001b[38;5;124;43m'\u001b[39;49m\u001b[38;5;124;43mtrim_user\u001b[39;49m\u001b[38;5;124;43m'\u001b[39;49m\u001b[43m,\u001b[49m\u001b[43m \u001b[49m\u001b[38;5;124;43m'\u001b[39;49m\u001b[38;5;124;43mexclude_replies\u001b[39;49m\u001b[38;5;124;43m'\u001b[39;49m\u001b[43m,\u001b[49m\n\u001b[0;32m    333\u001b[0m \u001b[43m            \u001b[49m\u001b[38;5;124;43m'\u001b[39;49m\u001b[38;5;124;43minclude_entities\u001b[39;49m\u001b[38;5;124;43m'\u001b[39;49m\n\u001b[0;32m    334\u001b[0m \u001b[43m        \u001b[49m\u001b[43m)\u001b[49m\u001b[43m,\u001b[49m\u001b[43m \u001b[49m\u001b[38;5;241;43m*\u001b[39;49m\u001b[38;5;241;43m*\u001b[39;49m\u001b[43mkwargs\u001b[49m\n\u001b[0;32m    335\u001b[0m \u001b[43m    \u001b[49m\u001b[43m)\u001b[49m\n",
      "File \u001b[1;32m~\\AppData\\Roaming\\Python\\Python313\\site-packages\\tweepy\\api.py:268\u001b[0m, in \u001b[0;36mAPI.request\u001b[1;34m(self, method, endpoint, endpoint_parameters, params, headers, json_payload, parser, payload_list, payload_type, post_data, files, require_auth, return_cursors, upload_api, use_cache, **kwargs)\u001b[0m\n\u001b[0;32m    266\u001b[0m     \u001b[38;5;28;01mraise\u001b[39;00m BadRequest(resp)\n\u001b[0;32m    267\u001b[0m \u001b[38;5;28;01mif\u001b[39;00m resp\u001b[38;5;241m.\u001b[39mstatus_code \u001b[38;5;241m==\u001b[39m \u001b[38;5;241m401\u001b[39m:\n\u001b[1;32m--> 268\u001b[0m     \u001b[38;5;28;01mraise\u001b[39;00m Unauthorized(resp)\n\u001b[0;32m    269\u001b[0m \u001b[38;5;28;01mif\u001b[39;00m resp\u001b[38;5;241m.\u001b[39mstatus_code \u001b[38;5;241m==\u001b[39m \u001b[38;5;241m403\u001b[39m:\n\u001b[0;32m    270\u001b[0m     \u001b[38;5;28;01mraise\u001b[39;00m Forbidden(resp)\n",
      "\u001b[1;31mUnauthorized\u001b[0m: 401 Unauthorized\n32 - Could not authenticate you."
     ]
    }
   ],
   "source": []
  },
  {
   "cell_type": "code",
   "execution_count": null,
   "metadata": {},
   "outputs": [],
   "source": [
    "# Authenticate with the Twitter API\n",
    "auth = tweepy.OAuthHandler(api_key, api_secret_key)\n",
    "auth.set_access_token(access_token, access_token_secret)\n",
    "\n",
    "# Create the Tweepy API object\n",
    "api = tweepy.API(auth)\n"
   ]
  }
 ],
 "metadata": {
  "kernelspec": {
   "display_name": "Python 3",
   "language": "python",
   "name": "python3"
  },
  "language_info": {
   "codemirror_mode": {
    "name": "ipython",
    "version": 3
   },
   "file_extension": ".py",
   "mimetype": "text/x-python",
   "name": "python",
   "nbconvert_exporter": "python",
   "pygments_lexer": "ipython3",
   "version": "3.13.1"
  }
 },
 "nbformat": 4,
 "nbformat_minor": 2
}
