{
 "cells": [
  {
   "cell_type": "markdown",
   "metadata": {},
   "source": [
    "Import Dependencies"
   ]
  },
  {
   "cell_type": "code",
   "execution_count": 1,
   "metadata": {},
   "outputs": [],
   "source": [
    "import time\n",
    "import requests, pandas as pd\n",
    "from datetime import datetime, timedelta, timezone, time\n",
    "from datetime import datetime, timezone, time\n",
    "import os\n",
    "from pathlib import Path\n",
    "import meteomatics.api as api\n",
    "import matplotlib.pyplot as plt\n",
    "import pytz"
   ]
  },
  {
   "cell_type": "markdown",
   "metadata": {},
   "source": [
    "Présentation Location de la Bouée 51101"
   ]
  },
  {
   "cell_type": "code",
   "execution_count": 2,
   "metadata": {},
   "outputs": [
    {
     "data": {
      "text/plain": [
       "'\\nimport folium\\n\\nTournai = (50.6, 3.3833)\\nBuoy_51101 = (24.359, -162.081)\\n# Définir les coordonnées (latitude, longitude)\\ncoordinates = [Buoy_51101, Tournai]\\n\\n# Créer une carte centrée sur la première paire de coordonnées\\nmap = folium.Map(location=coordinates[0], zoom_start=3)\\n\\n# Ajouter des marqueurs pour chaque paire de coordonnées\\nfor lat, lon in coordinates:\\n    folium.Marker(location=[lat, lon]).add_to(map)\\n\\n# Enregistrer la carte dans un fichier HTML\\nmap.save(\"map.html\")\\n\\n'"
      ]
     },
     "execution_count": 2,
     "metadata": {},
     "output_type": "execute_result"
    }
   ],
   "source": [
    "\"\"\"\n",
    "import folium\n",
    "\n",
    "Tournai = (50.6, 3.3833)\n",
    "Buoy_51101 = (24.359, -162.081)\n",
    "# Définir les coordonnées (latitude, longitude)\n",
    "coordinates = [Buoy_51101, Tournai]\n",
    "\n",
    "# Créer une carte centrée sur la première paire de coordonnées\n",
    "map = folium.Map(location=coordinates[0], zoom_start=3)\n",
    "\n",
    "# Ajouter des marqueurs pour chaque paire de coordonnées\n",
    "for lat, lon in coordinates:\n",
    "    folium.Marker(location=[lat, lon]).add_to(map)\n",
    "\n",
    "# Enregistrer la carte dans un fichier HTML\n",
    "map.save(\"map.html\")\n",
    "\n",
    "\"\"\""
   ]
  },
  {
   "cell_type": "markdown",
   "metadata": {},
   "source": [
    "Get Credentials"
   ]
  },
  {
   "cell_type": "code",
   "execution_count": 3,
   "metadata": {},
   "outputs": [],
   "source": [
    "def read_credentials():\n",
    "    with open('Constants.py', 'r') as credentials:\n",
    "        content = credentials.read()\n",
    "    lines = content.split('\\n')\n",
    "    lines = [line.strip() for line in lines]\n",
    "\n",
    "    # Iterate through each line to find the values\n",
    "    for line in lines:\n",
    "        if line.startswith('METEO_USERNAME'):\n",
    "            meteo_username = line.split('=')[1].strip().strip(\"'\\\"\")\n",
    "        elif line.startswith('METEO_PASSWORD'):\n",
    "            meteo_password = line.split('=')[1].strip().strip(\"'\\\"\")\n",
    "    \n",
    "    return meteo_username, meteo_password"
   ]
  },
  {
   "cell_type": "markdown",
   "metadata": {},
   "source": [
    "Gather Last 24h Climate Data for Hawaii 51101 Station Buoy Zone by 10 minutes intervals"
   ]
  },
  {
   "cell_type": "code",
   "execution_count": 4,
   "metadata": {},
   "outputs": [
    {
     "data": {
      "text/html": [
       "<div>\n",
       "<style scoped>\n",
       "    .dataframe tbody tr th:only-of-type {\n",
       "        vertical-align: middle;\n",
       "    }\n",
       "\n",
       "    .dataframe tbody tr th {\n",
       "        vertical-align: top;\n",
       "    }\n",
       "\n",
       "    .dataframe thead th {\n",
       "        text-align: right;\n",
       "    }\n",
       "</style>\n",
       "<table border=\"1\" class=\"dataframe\">\n",
       "  <thead>\n",
       "    <tr style=\"text-align: right;\">\n",
       "      <th></th>\n",
       "      <th>lat</th>\n",
       "      <th>lon</th>\n",
       "      <th>validdate</th>\n",
       "      <th>wind_speed_10m:ms</th>\n",
       "      <th>wind_dir_10m:d</th>\n",
       "      <th>wind_gusts_10m_1h:ms</th>\n",
       "      <th>t_2m:C</th>\n",
       "      <th>t_max_2m_24h:C</th>\n",
       "      <th>t_min_2m_24h:C</th>\n",
       "      <th>msl_pressure:hPa</th>\n",
       "      <th>precip_1h:mm</th>\n",
       "    </tr>\n",
       "  </thead>\n",
       "  <tbody>\n",
       "    <tr>\n",
       "      <th>0</th>\n",
       "      <td>24.359</td>\n",
       "      <td>-162.081</td>\n",
       "      <td>2024-05-20 14:00:00+00:00</td>\n",
       "      <td>5.0</td>\n",
       "      <td>161.7</td>\n",
       "      <td>5.0</td>\n",
       "      <td>24.0</td>\n",
       "      <td>24.5</td>\n",
       "      <td>21.8</td>\n",
       "      <td>1015.8</td>\n",
       "      <td>0.81</td>\n",
       "    </tr>\n",
       "    <tr>\n",
       "      <th>1</th>\n",
       "      <td>24.359</td>\n",
       "      <td>-162.081</td>\n",
       "      <td>2024-05-20 14:10:00+00:00</td>\n",
       "      <td>5.0</td>\n",
       "      <td>159.7</td>\n",
       "      <td>5.0</td>\n",
       "      <td>24.0</td>\n",
       "      <td>24.5</td>\n",
       "      <td>21.8</td>\n",
       "      <td>1015.9</td>\n",
       "      <td>0.63</td>\n",
       "    </tr>\n",
       "    <tr>\n",
       "      <th>2</th>\n",
       "      <td>24.359</td>\n",
       "      <td>-162.081</td>\n",
       "      <td>2024-05-20 14:20:00+00:00</td>\n",
       "      <td>5.0</td>\n",
       "      <td>157.3</td>\n",
       "      <td>5.0</td>\n",
       "      <td>24.0</td>\n",
       "      <td>24.5</td>\n",
       "      <td>21.8</td>\n",
       "      <td>1015.9</td>\n",
       "      <td>0.63</td>\n",
       "    </tr>\n",
       "    <tr>\n",
       "      <th>3</th>\n",
       "      <td>24.359</td>\n",
       "      <td>-162.081</td>\n",
       "      <td>2024-05-20 14:30:00+00:00</td>\n",
       "      <td>6.0</td>\n",
       "      <td>154.4</td>\n",
       "      <td>6.0</td>\n",
       "      <td>24.1</td>\n",
       "      <td>24.5</td>\n",
       "      <td>21.8</td>\n",
       "      <td>1015.9</td>\n",
       "      <td>0.63</td>\n",
       "    </tr>\n",
       "    <tr>\n",
       "      <th>4</th>\n",
       "      <td>24.359</td>\n",
       "      <td>-162.081</td>\n",
       "      <td>2024-05-20 14:40:00+00:00</td>\n",
       "      <td>6.0</td>\n",
       "      <td>151.0</td>\n",
       "      <td>6.0</td>\n",
       "      <td>23.9</td>\n",
       "      <td>24.5</td>\n",
       "      <td>21.8</td>\n",
       "      <td>1016.0</td>\n",
       "      <td>0.63</td>\n",
       "    </tr>\n",
       "  </tbody>\n",
       "</table>\n",
       "</div>"
      ],
      "text/plain": [
       "      lat      lon                 validdate  wind_speed_10m:ms  \\\n",
       "0  24.359 -162.081 2024-05-20 14:00:00+00:00                5.0   \n",
       "1  24.359 -162.081 2024-05-20 14:10:00+00:00                5.0   \n",
       "2  24.359 -162.081 2024-05-20 14:20:00+00:00                5.0   \n",
       "3  24.359 -162.081 2024-05-20 14:30:00+00:00                6.0   \n",
       "4  24.359 -162.081 2024-05-20 14:40:00+00:00                6.0   \n",
       "\n",
       "   wind_dir_10m:d  wind_gusts_10m_1h:ms  t_2m:C  t_max_2m_24h:C  \\\n",
       "0           161.7                   5.0    24.0            24.5   \n",
       "1           159.7                   5.0    24.0            24.5   \n",
       "2           157.3                   5.0    24.0            24.5   \n",
       "3           154.4                   6.0    24.1            24.5   \n",
       "4           151.0                   6.0    23.9            24.5   \n",
       "\n",
       "   t_min_2m_24h:C  msl_pressure:hPa  precip_1h:mm  \n",
       "0            21.8            1015.8          0.81  \n",
       "1            21.8            1015.9          0.63  \n",
       "2            21.8            1015.9          0.63  \n",
       "3            21.8            1015.9          0.63  \n",
       "4            21.8            1016.0          0.63  "
      ]
     },
     "execution_count": 4,
     "metadata": {},
     "output_type": "execute_result"
    }
   ],
   "source": [
    "# Définir les paramètres\n",
    "parameters = [\n",
    "        'wind_speed_10m:ms',\t\n",
    "        'wind_dir_10m:d',\n",
    "        'wind_gusts_10m_1h:ms',\n",
    "        't_2m:C',\n",
    "        't_max_2m_24h:C',\n",
    "        't_min_2m_24h:C',\n",
    "        'msl_pressure:hPa',\n",
    "        'precip_1h:mm'\n",
    "    ]\n",
    "\n",
    "# Définir les coordonnées\n",
    "coordinates = [(24.359, -162.081)]\n",
    "\n",
    "# Définir le modèle\n",
    "model = 'mix'\n",
    "# Début URL de l'API\n",
    "DEFAULT_API_BASE_URL = \"https://api.meteomatics.com\"\n",
    "enddate = datetime.now(timezone.utc).replace(minute=0, second=0, microsecond=0)\n",
    "startdate = enddate - timedelta(days=1)\n",
    "interval = timedelta(minutes=10)\n",
    "\n",
    "# Fonction de requête API Météo\n",
    "def meteo_api_request(parameters, coordinates, model, DEFAULT_API_BASE_URL, startdate, enddate, interval):\n",
    "\n",
    "    # Appel de la fonction read_credentials pour obtenir les informations d'identification\n",
    "    meteo_username, meteo_password = read_credentials()\n",
    "    \n",
    "    # Récupérer les données\n",
    "    meteo_df = api.query_time_series(coordinates, startdate, enddate, interval, parameters, meteo_username, meteo_password, model=model)\n",
    "    meteo_df.reset_index(inplace=True)\n",
    "    return meteo_df\n",
    "\n",
    "meteo_df=meteo_api_request(parameters, coordinates, model, DEFAULT_API_BASE_URL, startdate, enddate, interval)\n",
    "meteo_df.head() "
   ]
  },
  {
   "cell_type": "code",
   "execution_count": 5,
   "metadata": {},
   "outputs": [
    {
     "data": {
      "text/html": [
       "<div>\n",
       "<style scoped>\n",
       "    .dataframe tbody tr th:only-of-type {\n",
       "        vertical-align: middle;\n",
       "    }\n",
       "\n",
       "    .dataframe tbody tr th {\n",
       "        vertical-align: top;\n",
       "    }\n",
       "\n",
       "    .dataframe thead th {\n",
       "        text-align: right;\n",
       "    }\n",
       "</style>\n",
       "<table border=\"1\" class=\"dataframe\">\n",
       "  <thead>\n",
       "    <tr style=\"text-align: right;\">\n",
       "      <th></th>\n",
       "      <th>Datetime</th>\n",
       "      <th>wind speed (ms)</th>\n",
       "      <th>wind dir (°)</th>\n",
       "      <th>wind_gusts 1h (ms)</th>\n",
       "      <th>T° (C°)</th>\n",
       "      <th>T°_max 24h (C°)</th>\n",
       "      <th>T° min 24h (°)</th>\n",
       "      <th>sea level pressure (hPa)</th>\n",
       "      <th>Precip 1h (mm)</th>\n",
       "    </tr>\n",
       "  </thead>\n",
       "  <tbody>\n",
       "    <tr>\n",
       "      <th>0</th>\n",
       "      <td>2024-05-20 14:00:00+00:00</td>\n",
       "      <td>5.0</td>\n",
       "      <td>161.7</td>\n",
       "      <td>5.0</td>\n",
       "      <td>24.0</td>\n",
       "      <td>24.5</td>\n",
       "      <td>21.8</td>\n",
       "      <td>1015.8</td>\n",
       "      <td>0.81</td>\n",
       "    </tr>\n",
       "    <tr>\n",
       "      <th>1</th>\n",
       "      <td>2024-05-20 14:10:00+00:00</td>\n",
       "      <td>5.0</td>\n",
       "      <td>159.7</td>\n",
       "      <td>5.0</td>\n",
       "      <td>24.0</td>\n",
       "      <td>24.5</td>\n",
       "      <td>21.8</td>\n",
       "      <td>1015.9</td>\n",
       "      <td>0.63</td>\n",
       "    </tr>\n",
       "    <tr>\n",
       "      <th>2</th>\n",
       "      <td>2024-05-20 14:20:00+00:00</td>\n",
       "      <td>5.0</td>\n",
       "      <td>157.3</td>\n",
       "      <td>5.0</td>\n",
       "      <td>24.0</td>\n",
       "      <td>24.5</td>\n",
       "      <td>21.8</td>\n",
       "      <td>1015.9</td>\n",
       "      <td>0.63</td>\n",
       "    </tr>\n",
       "    <tr>\n",
       "      <th>3</th>\n",
       "      <td>2024-05-20 14:30:00+00:00</td>\n",
       "      <td>6.0</td>\n",
       "      <td>154.4</td>\n",
       "      <td>6.0</td>\n",
       "      <td>24.1</td>\n",
       "      <td>24.5</td>\n",
       "      <td>21.8</td>\n",
       "      <td>1015.9</td>\n",
       "      <td>0.63</td>\n",
       "    </tr>\n",
       "    <tr>\n",
       "      <th>4</th>\n",
       "      <td>2024-05-20 14:40:00+00:00</td>\n",
       "      <td>6.0</td>\n",
       "      <td>151.0</td>\n",
       "      <td>6.0</td>\n",
       "      <td>23.9</td>\n",
       "      <td>24.5</td>\n",
       "      <td>21.8</td>\n",
       "      <td>1016.0</td>\n",
       "      <td>0.63</td>\n",
       "    </tr>\n",
       "  </tbody>\n",
       "</table>\n",
       "</div>"
      ],
      "text/plain": [
       "                   Datetime  wind speed (ms)  wind dir (°)  \\\n",
       "0 2024-05-20 14:00:00+00:00              5.0         161.7   \n",
       "1 2024-05-20 14:10:00+00:00              5.0         159.7   \n",
       "2 2024-05-20 14:20:00+00:00              5.0         157.3   \n",
       "3 2024-05-20 14:30:00+00:00              6.0         154.4   \n",
       "4 2024-05-20 14:40:00+00:00              6.0         151.0   \n",
       "\n",
       "   wind_gusts 1h (ms)  T° (C°)  T°_max 24h (C°)  T° min 24h (°)  \\\n",
       "0                 5.0     24.0             24.5            21.8   \n",
       "1                 5.0     24.0             24.5            21.8   \n",
       "2                 5.0     24.0             24.5            21.8   \n",
       "3                 6.0     24.1             24.5            21.8   \n",
       "4                 6.0     23.9             24.5            21.8   \n",
       "\n",
       "   sea level pressure (hPa)  Precip 1h (mm)  \n",
       "0                    1015.8            0.81  \n",
       "1                    1015.9            0.63  \n",
       "2                    1015.9            0.63  \n",
       "3                    1015.9            0.63  \n",
       "4                    1016.0            0.63  "
      ]
     },
     "execution_count": 5,
     "metadata": {},
     "output_type": "execute_result"
    }
   ],
   "source": [
    "meteo_df.rename(columns={'validdate': 'Datetime', 'wind_speed_10m:ms':'wind speed (ms)','wind_dir_10m:d':'wind dir (°)',\n",
    "                          'wind_gusts_10m_1h:ms':'wind_gusts 1h (ms)','t_2m:C':'T° (C°)','t_max_2m_24h:C':'T°_max 24h (C°)',\n",
    "                          't_min_2m_24h:C':'T° min 24h (°)', 'msl_pressure:hPa': 'sea level pressure (hPa)','precip_1h:mm':'Precip 1h (mm)'}, inplace=True)\n",
    "meteo_df = meteo_df.drop(columns=['lat','lon'])\n",
    "meteo_df.head()"
   ]
  },
  {
   "cell_type": "code",
   "execution_count": 6,
   "metadata": {},
   "outputs": [
    {
     "data": {
      "text/plain": [
       "Datetime                    datetime64[ns, UTC]\n",
       "wind speed (ms)                         float64\n",
       "wind dir (°)                            float64\n",
       "wind_gusts 1h (ms)                      float64\n",
       "T° (C°)                                 float64\n",
       "T°_max 24h (C°)                         float64\n",
       "T° min 24h (°)                          float64\n",
       "sea level pressure (hPa)                float64\n",
       "Precip 1h (mm)                          float64\n",
       "dtype: object"
      ]
     },
     "execution_count": 6,
     "metadata": {},
     "output_type": "execute_result"
    }
   ],
   "source": [
    "meteo_df.dtypes"
   ]
  },
  {
   "cell_type": "markdown",
   "metadata": {},
   "source": [
    "Get Google Big Query Credentials And Send the Data"
   ]
  },
  {
   "cell_type": "code",
   "execution_count": 7,
   "metadata": {},
   "outputs": [
    {
     "data": {
      "text/plain": [
       "Index(['Datetime', 'wind speed (ms)', 'wind dir (°)', 'wind_gusts 1h (ms)',\n",
       "       'T° (C°)', 'T°_max 24h (C°)', 'T° min 24h (°)',\n",
       "       'sea level pressure (hPa)', 'Precip 1h (mm)'],\n",
       "      dtype='object')"
      ]
     },
     "execution_count": 7,
     "metadata": {},
     "output_type": "execute_result"
    }
   ],
   "source": [
    "meteo_df.columns"
   ]
  },
  {
   "cell_type": "code",
   "execution_count": 8,
   "metadata": {},
   "outputs": [],
   "source": [
    "meteo_df_final= meteo_df\n",
    "meteo_df_final.to_csv('df_meteo_final.csv', index=False)"
   ]
  }
 ],
 "metadata": {
  "kernelspec": {
   "display_name": "Python 3",
   "language": "python",
   "name": "python3"
  },
  "language_info": {
   "codemirror_mode": {
    "name": "ipython",
    "version": 3
   },
   "file_extension": ".py",
   "mimetype": "text/x-python",
   "name": "python",
   "nbconvert_exporter": "python",
   "pygments_lexer": "ipython3",
   "version": "3.12.3"
  }
 },
 "nbformat": 4,
 "nbformat_minor": 2
}
