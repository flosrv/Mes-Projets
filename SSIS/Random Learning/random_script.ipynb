{
 "cells": [
  {
   "cell_type": "code",
   "execution_count": 55,
   "metadata": {},
   "outputs": [
    {
     "name": "stdout",
     "output_type": "stream",
     "text": [
      "Note: you may need to restart the kernel to use updated packages.\n"
     ]
    }
   ],
   "source": [
    "%pip install -q sqlalchemy psycopg2 faker"
   ]
  },
  {
   "cell_type": "code",
   "execution_count": null,
   "metadata": {},
   "outputs": [
    {
     "name": "stdout",
     "output_type": "stream",
     "text": [
      "Connexion réussie !\n"
     ]
    }
   ],
   "source": [
    "import json, psycopg2, random\n",
    "from sqlalchemy import create_engine, text\n",
    "from faker import Faker\n",
    "\n",
    "# Charger les credentials\n",
    "postgres_creds_path = r\"C:\\Users\\f.gionnane\\Documents\\Data Engineering\\Credentials\\postgresql_creds.json\"\n",
    "\n",
    "with open(postgres_creds_path, 'r', encoding='utf-8') as file:\n",
    "    content = json.load(file)\n",
    "\n",
    "# Récupération des valeurs\n",
    "host = content['host']\n",
    "port = content['port']\n",
    "user = content['user']\n",
    "password = content['password']\n",
    "dbname = \"MyProjects\" \n",
    "schema = 'Learn_SSIS'\n",
    "\n",
    "# Connexion à PostgreSQL\n",
    "engine = create_engine(f\"postgresql+psycopg2://{user}:{password}@{host}:{port}/{dbname}\")\n",
    "\n",
    "try:\n",
    "    conn = engine.connect()\n",
    "    print(\"Connexion réussie !\")\n",
    "    conn.close()\n",
    "except Exception as e:\n",
    "    print(f\"Erreur de connexion : {e}\")\n",
    "\n",
    "def create_schema_and_table(conn, schema, table_name, col):\n",
    "    # Vérifier si le schéma existe, sinon le créer\n",
    "    result = conn.execute(text(f\"SELECT schema_name FROM information_schema.schemata WHERE schema_name = '{schema}'\"))\n",
    "    if not result.fetchone():\n",
    "        conn.execute(text(f\"CREATE SCHEMA IF NOT EXISTS \\\"{schema}\\\"\"))\n",
    "        print(f'Schema \"{schema}\" created.')\n",
    "    else:\n",
    "        print(f'Schema \"{schema}\" already exists.')\n",
    "\n",
    "    # Vérifier si la table existe, sinon la créer\n",
    "    result = conn.execute(text(f\"SELECT EXISTS (SELECT 1 FROM pg_catalog.pg_tables WHERE schemaname = '{schema}' AND tablename = '{table_name}')\"))\n",
    "    table_exists = result.fetchone()[0]\n",
    "\n",
    "    if not table_exists:\n",
    "        print(f\"Table '{table_name}' does not exist. Creating...\")\n",
    "\n",
    "        # Définir un type de colonne par défaut (par exemple, 'VARCHAR')\n",
    "        columns_definition = ', '.join([f'\"{col_name}\" VARCHAR' for col_name in col])\n",
    "\n",
    "        # Créer la requête SQL pour créer la table avec les colonnes spécifiées\n",
    "        create_table_query = f\"\"\"\n",
    "        CREATE TABLE IF NOT EXISTS \\\"{schema}\\\".\\\"{table_name}\\\" (\n",
    "            id SERIAL PRIMARY KEY,\n",
    "            {columns_definition}\n",
    "        );\n",
    "        \"\"\"\n",
    "        conn.execute(text(create_table_query))  # Exécution directe de la requête\n",
    "        conn.commit()  # S'assurer que la transaction est validée\n",
    "        print(f\"Table '{table_name}' created in schema '{schema}'.\")\n",
    "\n",
    "    else:\n",
    "        print(f\"Table '{table_name}' already exists.\")\n",
    "\n",
    "\n",
    "\n",
    "# Fonction pour créer une table sans insérer de données\n",
    "def create_fake_table(conn, schema):\n",
    "    # Générer un nom de table aléatoire\n",
    "    table_name = f\"fake_data_{random.randint(1000, 9999)}\"\n",
    "\n",
    "    # Définir les colonnes de la table\n",
    "    columns = [\"name\", \"email\", \"address\", \"phone\"]\n",
    "    \n",
    "    # Créer la table\n",
    "    create_schema_and_table(conn, schema, table_name, columns)\n",
    "\n",
    "    print(f\"Table '{table_name}' créée dans le schéma '{schema}'.\")\n",
    "\n",
    "# Assurez-vous que la connexion est bien ouverte avant d'appeler la fonction\n",
    "with engine.connect() as conn:\n",
    "    create_fake_table(conn=conn, schema=schema)\n",
    "\n"
   ]
  },
  {
   "cell_type": "code",
   "execution_count": 63,
   "metadata": {},
   "outputs": [],
   "source": [
    "def create_schema_and_table(conn, schema, table_name, col):\n",
    "    # Vérifier si le schéma existe, sinon le créer\n",
    "    result = conn.execute(text(f\"SELECT schema_name FROM information_schema.schemata WHERE schema_name = '{schema}'\"))\n",
    "    if not result.fetchone():\n",
    "        conn.execute(text(f\"CREATE SCHEMA IF NOT EXISTS \\\"{schema}\\\"\"))\n",
    "        print(f'Schema \"{schema}\" created.')\n",
    "    else:\n",
    "        print(f'Schema \"{schema}\" already exists.')\n",
    "\n",
    "    # Vérifier si la table existe, sinon la créer\n",
    "    result = conn.execute(text(f\"SELECT EXISTS (SELECT 1 FROM pg_catalog.pg_tables WHERE schemaname = '{schema}' AND tablename = '{table_name}')\"))\n",
    "    table_exists = result.fetchone()[0]\n",
    "\n",
    "    if not table_exists:\n",
    "        print(f\"Table '{table_name}' does not exist. Creating...\")\n",
    "\n",
    "        # Définir un type de colonne par défaut (par exemple, 'VARCHAR')\n",
    "        columns_definition = ', '.join([f'\"{col_name}\" VARCHAR' for col_name in col])\n",
    "\n",
    "        # Créer la requête SQL pour créer la table avec les colonnes spécifiées\n",
    "        create_table_query = f\"\"\"\n",
    "        CREATE TABLE IF NOT EXISTS \\\"{schema}\\\".\\\"{table_name}\\\" (\n",
    "            id SERIAL PRIMARY KEY,\n",
    "            {columns_definition}\n",
    "        );\n",
    "        \"\"\"\n",
    "        conn.execute(text(create_table_query))  # Exécution directe de la requête\n",
    "        conn.commit()  # S'assurer que la transaction est validée\n",
    "        print(f\"Table '{table_name}' created in schema '{schema}'.\")\n",
    "\n",
    "    else:\n",
    "        print(f\"Table '{table_name}' already exists.\")\n",
    "\n",
    "\n",
    "    schema = 'Learn_SSIS'"
   ]
  },
  {
   "cell_type": "code",
   "execution_count": null,
   "metadata": {},
   "outputs": [
    {
     "name": "stdout",
     "output_type": "stream",
     "text": [
      "Schema \"Learn_SSIS\" created.\n",
      "Table 'fake_data_7666' does not exist. Creating...\n",
      "Table 'fake_data_7666' created in schema 'Learn_SSIS'.\n",
      "Table 'fake_data_7666' créée dans le schéma 'Learn_SSIS'.\n"
     ]
    }
   ],
   "source": []
  },
  {
   "cell_type": "code",
   "execution_count": null,
   "metadata": {},
   "outputs": [],
   "source": []
  }
 ],
 "metadata": {
  "kernelspec": {
   "display_name": "Python 3",
   "language": "python",
   "name": "python3"
  },
  "language_info": {
   "codemirror_mode": {
    "name": "ipython",
    "version": 3
   },
   "file_extension": ".py",
   "mimetype": "text/x-python",
   "name": "python",
   "nbconvert_exporter": "python",
   "pygments_lexer": "ipython3",
   "version": "3.13.2"
  }
 },
 "nbformat": 4,
 "nbformat_minor": 2
}
