from selenium import webdriver
from chromedriver_py import binary_path  # Obtient le chemin du binaire de ChromeDriver

# Crée un service avec le chemin du binaire
svc = webdriver.ChromeService(executable_path=binary_path)
driver = webdriver.Chrome(service=svc)

# Naviguer sur un site pour tester
driver.get("http://www.python.org")
assert "Python" in driver.title
